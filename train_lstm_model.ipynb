# Import necessary libraries
import numpy as np
import pandas as pd
import matplotlib.pyplot as plt
import yfinance as yf
from sklearn.preprocessing import MinMaxScaler
from sklearn.metrics import mean_squared_error
from tensorflow.keras.models import Sequential
from tensorflow.keras.layers import LSTM, Dense

# Define the ticker symbol and date range
ticker_symbol = "GOOGL"
start_date = "YYYY-MM-DD"
end_date = "YYYY-MM-DD"

# Fetch historical stock data
data = yf.download(ticker_symbol, start=start_date, end=end_date)

# Preprocess the data
def preprocess_data(data):
    # Extract the 'Close' prices
    prices = data['Close'].values.reshape(-1, 1)
    
    # Normalize the data
    scaler = MinMaxScaler()
    prices = scaler.fit_transform(prices)
    
    return prices, scaler

prices, scaler = preprocess_data(data)

# Split the data into training and testing sets
train_size = int(len(prices) * 0.8)
train_data = prices[:train_size]
test_data = prices[train_size:]

# Define a function to create the training dataset
def create_dataset(dataset, look_back=1):
    X, Y = [], []
    for i in range(len(dataset) - look_back):
        X.append(dataset[i:(i + look_back), 0])
        Y.append(dataset[i + look_back, 0])
    return np.array(X), np.array(Y)

look_back = 10  # Number of previous time steps to use as input features
X_train, Y_train = create_dataset(train_data, look_back)
X_test, Y_test = create_dataset(test_data, look_back)

# Reshape the input data to be 3D (samples, time steps, features)
X_train = np.reshape(X_train, (X_train.shape[0], X_train.shape[1], 1))
X_test = np.reshape(X_test, (X_test.shape[0], X_test.shape[1], 1))

# Build the LSTM model
model = Sequential()
model.add(LSTM(50, input_shape=(look_back, 1)))
model.add(Dense(1))
model.compile(loss='mean_squared_error', optimizer='adam')

# Train the model
model.fit(X_train, Y_train, epochs=100, batch_size=64)

# Evaluate the model
train_predictions = model.predict(X_train)
test_predictions = model.predict(X_test)

# Inverse transform the predictions to the original scale
train_predictions = scaler.inverse_transform(train_predictions)
test_predictions = scaler.inverse_transform(test_predictions)

# Calculate the root mean squared error
train_rmse = np.sqrt(mean_squared_error(Y_train, train_predictions))
test_rmse = np.sqrt(mean_squared_error(Y_test, test_predictions))

# Print RMSE values
print(f"Train RMSE: {train_rmse:.2f}")
print(f"Test RMSE: {test_rmse:.2f}")

# Plot the results
plt.figure(figsize=(12, 6))
plt.title(f'{ticker_symbol} Stock Price Prediction')
plt.xlabel('Date')
plt.ylabel('Stock Price')
plt.plot(data.index[:len(train_data)], train_data, label='Training Data')
plt.plot(data.index[len(train_data) + look_back - 1:], test_data, label='Test Data')
plt.plot(data.index[look_back:len(train_data)], train_predictions, label='Training Predictions')
plt.plot(data.index[len(train_data) + look_back - 1:], test_predictions, label='Test Predictions')
plt.legend()
plt.show()





